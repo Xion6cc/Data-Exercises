{
 "cells": [
  {
   "cell_type": "markdown",
   "metadata": {},
   "source": [
    "### Name: Chuchen Xiong\n",
    "### Email: xion2022@umn.edu"
   ]
  },
  {
   "cell_type": "markdown",
   "metadata": {},
   "source": [
    "# Table of Contents <a class='anchor' id='toc'></a>\n",
    "\n",
    "#### I. [Data Preprocessing](#dp)\n",
    "#### II. [Question A](#qa)\n",
    "#### III. [Question B](#qb)\n",
    "#### IV. [Question C](#qc)\n",
    "#### V. [Question D](#qd)\n",
    "#### VI. [Question E](#qe)"
   ]
  },
  {
   "cell_type": "markdown",
   "metadata": {},
   "source": [
    "# Data Preprocessing <a class=\"anchor\" id=\"dp\"></a>\n",
    "**[Back to top](#toc)**"
   ]
  },
  {
   "cell_type": "markdown",
   "metadata": {},
   "source": [
    "### Import packages and load data"
   ]
  },
  {
   "cell_type": "code",
   "execution_count": 1,
   "metadata": {},
   "outputs": [],
   "source": [
    "import warnings\n",
    "warnings.filterwarnings(\"ignore\")"
   ]
  },
  {
   "cell_type": "code",
   "execution_count": 27,
   "metadata": {},
   "outputs": [],
   "source": [
    "# Import packages\n",
    "import pandas as pd\n",
    "from scipy import stats\n",
    "import pylab\n",
    "import seaborn as sns\n",
    "import matplotlib.pyplot as plt\n",
    "from sklearn.metrics import confusion_matrix, classification_report"
   ]
  },
  {
   "cell_type": "code",
   "execution_count": 3,
   "metadata": {},
   "outputs": [],
   "source": [
    "# Import the data\n",
    "df = pd.read_csv('C:/Users/sysux/Desktop/screening_exercise_orders_v201810.csv')"
   ]
  },
  {
   "cell_type": "code",
   "execution_count": 4,
   "metadata": {},
   "outputs": [
    {
     "data": {
      "text/html": [
       "<div>\n",
       "<style scoped>\n",
       "    .dataframe tbody tr th:only-of-type {\n",
       "        vertical-align: middle;\n",
       "    }\n",
       "\n",
       "    .dataframe tbody tr th {\n",
       "        vertical-align: top;\n",
       "    }\n",
       "\n",
       "    .dataframe thead th {\n",
       "        text-align: right;\n",
       "    }\n",
       "</style>\n",
       "<table border=\"1\" class=\"dataframe\">\n",
       "  <thead>\n",
       "    <tr style=\"text-align: right;\">\n",
       "      <th></th>\n",
       "      <th>customer_id</th>\n",
       "      <th>gender</th>\n",
       "      <th>date</th>\n",
       "      <th>value</th>\n",
       "      <th>predicted_gender</th>\n",
       "    </tr>\n",
       "  </thead>\n",
       "  <tbody>\n",
       "    <tr>\n",
       "      <th>0</th>\n",
       "      <td>1000</td>\n",
       "      <td>0</td>\n",
       "      <td>2017-01-01 00:11:31</td>\n",
       "      <td>198.5</td>\n",
       "      <td>1</td>\n",
       "    </tr>\n",
       "    <tr>\n",
       "      <th>1</th>\n",
       "      <td>1001</td>\n",
       "      <td>0</td>\n",
       "      <td>2017-01-01 00:29:56</td>\n",
       "      <td>338.0</td>\n",
       "      <td>1</td>\n",
       "    </tr>\n",
       "    <tr>\n",
       "      <th>2</th>\n",
       "      <td>1002</td>\n",
       "      <td>1</td>\n",
       "      <td>2017-01-01 01:30:31</td>\n",
       "      <td>733.0</td>\n",
       "      <td>1</td>\n",
       "    </tr>\n",
       "    <tr>\n",
       "      <th>3</th>\n",
       "      <td>1003</td>\n",
       "      <td>1</td>\n",
       "      <td>2017-01-01 01:34:22</td>\n",
       "      <td>772.0</td>\n",
       "      <td>1</td>\n",
       "    </tr>\n",
       "    <tr>\n",
       "      <th>4</th>\n",
       "      <td>1004</td>\n",
       "      <td>0</td>\n",
       "      <td>2017-01-01 03:11:54</td>\n",
       "      <td>508.0</td>\n",
       "      <td>1</td>\n",
       "    </tr>\n",
       "  </tbody>\n",
       "</table>\n",
       "</div>"
      ],
      "text/plain": [
       "   customer_id  gender                 date  value  predicted_gender\n",
       "0         1000       0  2017-01-01 00:11:31  198.5                 1\n",
       "1         1001       0  2017-01-01 00:29:56  338.0                 1\n",
       "2         1002       1  2017-01-01 01:30:31  733.0                 1\n",
       "3         1003       1  2017-01-01 01:34:22  772.0                 1\n",
       "4         1004       0  2017-01-01 03:11:54  508.0                 1"
      ]
     },
     "execution_count": 4,
     "metadata": {},
     "output_type": "execute_result"
    }
   ],
   "source": [
    "# Display first five rows\n",
    "df.head()"
   ]
  },
  {
   "cell_type": "code",
   "execution_count": 5,
   "metadata": {},
   "outputs": [
    {
     "data": {
      "text/plain": [
       "(13471, 5)"
      ]
     },
     "execution_count": 5,
     "metadata": {},
     "output_type": "execute_result"
    }
   ],
   "source": [
    "# Display data shape. This dataset has five columns and 13471 rows.\n",
    "df.shape"
   ]
  },
  {
   "cell_type": "markdown",
   "metadata": {},
   "source": [
    "### Check Data Type"
   ]
  },
  {
   "cell_type": "code",
   "execution_count": 6,
   "metadata": {},
   "outputs": [
    {
     "name": "stdout",
     "output_type": "stream",
     "text": [
      "<class 'pandas.core.frame.DataFrame'>\n",
      "RangeIndex: 13471 entries, 0 to 13470\n",
      "Data columns (total 5 columns):\n",
      " #   Column            Non-Null Count  Dtype  \n",
      "---  ------            --------------  -----  \n",
      " 0   customer_id       13471 non-null  int64  \n",
      " 1   gender            13471 non-null  int64  \n",
      " 2   date              13471 non-null  object \n",
      " 3   value             13471 non-null  float64\n",
      " 4   predicted_gender  13471 non-null  int64  \n",
      "dtypes: float64(1), int64(3), object(1)\n",
      "memory usage: 526.3+ KB\n"
     ]
    }
   ],
   "source": [
    "# Display data types of each column\n",
    "df.info()"
   ]
  },
  {
   "cell_type": "markdown",
   "metadata": {},
   "source": [
    "The dataset does not have missing value. However, I find that date column is string type, we need to convert it to datetime type. Also customer_id needs to be the string type."
   ]
  },
  {
   "cell_type": "code",
   "execution_count": 7,
   "metadata": {},
   "outputs": [],
   "source": [
    "# Convert date type\n",
    "df['date'] = pd.to_datetime(df['date'])\n",
    "df['customer_id'] = df['customer_id'].astype('str')"
   ]
  },
  {
   "cell_type": "markdown",
   "metadata": {},
   "source": [
    "### Check duplicate rows"
   ]
  },
  {
   "cell_type": "code",
   "execution_count": 8,
   "metadata": {},
   "outputs": [
    {
     "data": {
      "text/html": [
       "<div>\n",
       "<style scoped>\n",
       "    .dataframe tbody tr th:only-of-type {\n",
       "        vertical-align: middle;\n",
       "    }\n",
       "\n",
       "    .dataframe tbody tr th {\n",
       "        vertical-align: top;\n",
       "    }\n",
       "\n",
       "    .dataframe thead th {\n",
       "        text-align: right;\n",
       "    }\n",
       "</style>\n",
       "<table border=\"1\" class=\"dataframe\">\n",
       "  <thead>\n",
       "    <tr style=\"text-align: right;\">\n",
       "      <th></th>\n",
       "      <th>customer_id</th>\n",
       "      <th>gender</th>\n",
       "      <th>date</th>\n",
       "      <th>value</th>\n",
       "      <th>predicted_gender</th>\n",
       "    </tr>\n",
       "  </thead>\n",
       "  <tbody>\n",
       "    <tr>\n",
       "      <th>9961</th>\n",
       "      <td>7401</td>\n",
       "      <td>0</td>\n",
       "      <td>2017-09-21 22:58:02</td>\n",
       "      <td>1336.00</td>\n",
       "      <td>0</td>\n",
       "    </tr>\n",
       "    <tr>\n",
       "      <th>10775</th>\n",
       "      <td>8056</td>\n",
       "      <td>1</td>\n",
       "      <td>2017-10-10 03:35:53</td>\n",
       "      <td>462.57</td>\n",
       "      <td>1</td>\n",
       "    </tr>\n",
       "  </tbody>\n",
       "</table>\n",
       "</div>"
      ],
      "text/plain": [
       "      customer_id  gender                date    value  predicted_gender\n",
       "9961         7401       0 2017-09-21 22:58:02  1336.00                 0\n",
       "10775        8056       1 2017-10-10 03:35:53   462.57                 1"
      ]
     },
     "execution_count": 8,
     "metadata": {},
     "output_type": "execute_result"
    }
   ],
   "source": [
    "# Check duplicates\n",
    "df[df.duplicated()]"
   ]
  },
  {
   "cell_type": "markdown",
   "metadata": {},
   "source": [
    "As we can see, there are two duplicate rows with all data is the same. It is unlikely for a customer purchases same amount of money at the same time. I assume that technical issues cause these duplicates. Therefore, I remove these two rows."
   ]
  },
  {
   "cell_type": "code",
   "execution_count": 9,
   "metadata": {},
   "outputs": [],
   "source": [
    "# Drop duplicates\n",
    "df = df.drop_duplicates()"
   ]
  },
  {
   "cell_type": "markdown",
   "metadata": {},
   "source": [
    "### Exploratory Analysis"
   ]
  },
  {
   "cell_type": "markdown",
   "metadata": {},
   "source": [
    "Gender and predicted_gender have two unique values. "
   ]
  },
  {
   "cell_type": "code",
   "execution_count": 10,
   "metadata": {},
   "outputs": [
    {
     "name": "stdout",
     "output_type": "stream",
     "text": [
      "customer_id column has 8814 unique values\n",
      "gender column has 2 unique values\n",
      "date column has 13461 unique values\n",
      "value column has 4079 unique values\n",
      "predicted_gender column has 2 unique values\n"
     ]
    }
   ],
   "source": [
    "# Number of unique values in each column\n",
    "for col in df:\n",
    "    print('%s column has %d unique values' % (col, len(df[col].unique())))"
   ]
  },
  {
   "cell_type": "code",
   "execution_count": 11,
   "metadata": {},
   "outputs": [
    {
     "data": {
      "text/html": [
       "<div>\n",
       "<style scoped>\n",
       "    .dataframe tbody tr th:only-of-type {\n",
       "        vertical-align: middle;\n",
       "    }\n",
       "\n",
       "    .dataframe tbody tr th {\n",
       "        vertical-align: top;\n",
       "    }\n",
       "\n",
       "    .dataframe thead th {\n",
       "        text-align: right;\n",
       "    }\n",
       "</style>\n",
       "<table border=\"1\" class=\"dataframe\">\n",
       "  <thead>\n",
       "    <tr style=\"text-align: right;\">\n",
       "      <th></th>\n",
       "      <th>gender</th>\n",
       "      <th>value</th>\n",
       "      <th>predicted_gender</th>\n",
       "    </tr>\n",
       "  </thead>\n",
       "  <tbody>\n",
       "    <tr>\n",
       "      <th>count</th>\n",
       "      <td>13469.000000</td>\n",
       "      <td>13469.000000</td>\n",
       "      <td>13469.000000</td>\n",
       "    </tr>\n",
       "    <tr>\n",
       "      <th>mean</th>\n",
       "      <td>0.498255</td>\n",
       "      <td>357.241703</td>\n",
       "      <td>0.642809</td>\n",
       "    </tr>\n",
       "    <tr>\n",
       "      <th>std</th>\n",
       "      <td>0.500016</td>\n",
       "      <td>387.146663</td>\n",
       "      <td>0.479189</td>\n",
       "    </tr>\n",
       "    <tr>\n",
       "      <th>min</th>\n",
       "      <td>0.000000</td>\n",
       "      <td>0.000000</td>\n",
       "      <td>0.000000</td>\n",
       "    </tr>\n",
       "    <tr>\n",
       "      <th>25%</th>\n",
       "      <td>0.000000</td>\n",
       "      <td>161.200000</td>\n",
       "      <td>0.000000</td>\n",
       "    </tr>\n",
       "    <tr>\n",
       "      <th>50%</th>\n",
       "      <td>0.000000</td>\n",
       "      <td>258.000000</td>\n",
       "      <td>1.000000</td>\n",
       "    </tr>\n",
       "    <tr>\n",
       "      <th>75%</th>\n",
       "      <td>1.000000</td>\n",
       "      <td>426.000000</td>\n",
       "      <td>1.000000</td>\n",
       "    </tr>\n",
       "    <tr>\n",
       "      <th>max</th>\n",
       "      <td>1.000000</td>\n",
       "      <td>8046.300000</td>\n",
       "      <td>1.000000</td>\n",
       "    </tr>\n",
       "  </tbody>\n",
       "</table>\n",
       "</div>"
      ],
      "text/plain": [
       "             gender         value  predicted_gender\n",
       "count  13469.000000  13469.000000      13469.000000\n",
       "mean       0.498255    357.241703          0.642809\n",
       "std        0.500016    387.146663          0.479189\n",
       "min        0.000000      0.000000          0.000000\n",
       "25%        0.000000    161.200000          0.000000\n",
       "50%        0.000000    258.000000          1.000000\n",
       "75%        1.000000    426.000000          1.000000\n",
       "max        1.000000   8046.300000          1.000000"
      ]
     },
     "execution_count": 11,
     "metadata": {},
     "output_type": "execute_result"
    }
   ],
   "source": [
    "# Descriptive statistics\n",
    "df.describe()"
   ]
  },
  {
   "cell_type": "code",
   "execution_count": 12,
   "metadata": {},
   "outputs": [
    {
     "data": {
      "text/plain": [
       "<matplotlib.axes._subplots.AxesSubplot at 0x248fe2c5088>"
      ]
     },
     "execution_count": 12,
     "metadata": {},
     "output_type": "execute_result"
    },
    {
     "data": {
      "image/png": "[encoded data removed]",
      "text/plain": [
       "<Figure size 576x432 with 1 Axes>"
      ]
     },
     "metadata": {
      "needs_background": "light"
     },
     "output_type": "display_data"
    }
   ],
   "source": [
    "# Distribution of value\n",
    "df.boxplot(column=['value'], by = ['gender'], figsize=(8,6))"
   ]
  },
  {
   "cell_type": "code",
   "execution_count": 13,
   "metadata": {},
   "outputs": [
    {
     "data": {
      "text/plain": [
       "<matplotlib.axes._subplots.AxesSubplot at 0x24880a45208>"
      ]
     },
     "execution_count": 13,
     "metadata": {},
     "output_type": "execute_result"
    },
    {
     "data": {
      "image/png": "[encoded data removed]",
      "text/plain": [
       "<Figure size 576x432 with 1 Axes>"
      ]
     },
     "metadata": {
      "needs_background": "light"
     },
     "output_type": "display_data"
    }
   ],
   "source": [
    "# Distribution of value\n",
    "df['value'].plot(kind='hist', title='Histogram of Value', bins=100,  figsize=(8,6))"
   ]
  },
  {
   "cell_type": "code",
   "execution_count": 14,
   "metadata": {},
   "outputs": [
    {
     "data": {
      "text/html": [
       "<div>\n",
       "<style scoped>\n",
       "    .dataframe tbody tr th:only-of-type {\n",
       "        vertical-align: middle;\n",
       "    }\n",
       "\n",
       "    .dataframe tbody tr th {\n",
       "        vertical-align: top;\n",
       "    }\n",
       "\n",
       "    .dataframe thead th {\n",
       "        text-align: right;\n",
       "    }\n",
       "</style>\n",
       "<table border=\"1\" class=\"dataframe\">\n",
       "  <thead>\n",
       "    <tr style=\"text-align: right;\">\n",
       "      <th></th>\n",
       "      <th>customer_id</th>\n",
       "      <th>gender</th>\n",
       "      <th>date</th>\n",
       "      <th>value</th>\n",
       "      <th>predicted_gender</th>\n",
       "    </tr>\n",
       "  </thead>\n",
       "  <tbody>\n",
       "    <tr>\n",
       "      <th>11074</th>\n",
       "      <td>8217</td>\n",
       "      <td>0</td>\n",
       "      <td>2017-10-22 14:11:25</td>\n",
       "      <td>8046.3</td>\n",
       "      <td>1</td>\n",
       "    </tr>\n",
       "    <tr>\n",
       "      <th>9642</th>\n",
       "      <td>7379</td>\n",
       "      <td>1</td>\n",
       "      <td>2017-09-11 20:17:19</td>\n",
       "      <td>6877.0</td>\n",
       "      <td>1</td>\n",
       "    </tr>\n",
       "    <tr>\n",
       "      <th>10989</th>\n",
       "      <td>1145</td>\n",
       "      <td>1</td>\n",
       "      <td>2017-10-18 19:06:48</td>\n",
       "      <td>5530.0</td>\n",
       "      <td>1</td>\n",
       "    </tr>\n",
       "    <tr>\n",
       "      <th>3086</th>\n",
       "      <td>3393</td>\n",
       "      <td>1</td>\n",
       "      <td>2017-03-24 17:10:18</td>\n",
       "      <td>5480.0</td>\n",
       "      <td>1</td>\n",
       "    </tr>\n",
       "    <tr>\n",
       "      <th>10901</th>\n",
       "      <td>8124</td>\n",
       "      <td>1</td>\n",
       "      <td>2017-10-15 21:54:10</td>\n",
       "      <td>5300.2</td>\n",
       "      <td>0</td>\n",
       "    </tr>\n",
       "  </tbody>\n",
       "</table>\n",
       "</div>"
      ],
      "text/plain": [
       "      customer_id  gender                date   value  predicted_gender\n",
       "11074        8217       0 2017-10-22 14:11:25  8046.3                 1\n",
       "9642         7379       1 2017-09-11 20:17:19  6877.0                 1\n",
       "10989        1145       1 2017-10-18 19:06:48  5530.0                 1\n",
       "3086         3393       1 2017-03-24 17:10:18  5480.0                 1\n",
       "10901        8124       1 2017-10-15 21:54:10  5300.2                 0"
      ]
     },
     "execution_count": 14,
     "metadata": {},
     "output_type": "execute_result"
    }
   ],
   "source": [
    "# Check large values by sorting by value descending\n",
    "df.sort_values('value', ascending = False).head()"
   ]
  },
  {
   "cell_type": "markdown",
   "metadata": {},
   "source": [
    "In the distribution of value column, there are several large values such as 8046.3 and 6877.0. Since they fall into reasonable range and we don't have reasons to define them as anomalies, I decide to keep them."
   ]
  },
  {
   "cell_type": "markdown",
   "metadata": {},
   "source": [
    "# Question A <a class=\"anchor\" id=\"qa\"></a>\n",
    "**[Back to top](#toc)**"
   ]
  },
  {
   "cell_type": "markdown",
   "metadata": {},
   "source": [
    "Assemble a dataframe with one row per customer and the following columns:\n",
    "\n",
    "* customer_id\n",
    "* gender\n",
    "* most_recent_order_date\n",
    "* order_count (number of orders placed by this customer)\n",
    "\n",
    "Sort the dataframe by customer_id ascending and display the first 10 rows."
   ]
  },
  {
   "cell_type": "code",
   "execution_count": 15,
   "metadata": {},
   "outputs": [
    {
     "data": {
      "text/html": [
       "<div>\n",
       "<style scoped>\n",
       "    .dataframe tbody tr th:only-of-type {\n",
       "        vertical-align: middle;\n",
       "    }\n",
       "\n",
       "    .dataframe tbody tr th {\n",
       "        vertical-align: top;\n",
       "    }\n",
       "\n",
       "    .dataframe thead th {\n",
       "        text-align: right;\n",
       "    }\n",
       "</style>\n",
       "<table border=\"1\" class=\"dataframe\">\n",
       "  <thead>\n",
       "    <tr style=\"text-align: right;\">\n",
       "      <th></th>\n",
       "      <th>customer_id</th>\n",
       "      <th>gender</th>\n",
       "      <th>most_recent_order_date</th>\n",
       "      <th>order_count</th>\n",
       "    </tr>\n",
       "  </thead>\n",
       "  <tbody>\n",
       "    <tr>\n",
       "      <th>0</th>\n",
       "      <td>1000</td>\n",
       "      <td>0</td>\n",
       "      <td>2017-01-01 00:11:31</td>\n",
       "      <td>1</td>\n",
       "    </tr>\n",
       "    <tr>\n",
       "      <th>1</th>\n",
       "      <td>1001</td>\n",
       "      <td>0</td>\n",
       "      <td>2017-01-01 00:29:56</td>\n",
       "      <td>1</td>\n",
       "    </tr>\n",
       "    <tr>\n",
       "      <th>2</th>\n",
       "      <td>1002</td>\n",
       "      <td>1</td>\n",
       "      <td>2017-02-19 21:35:31</td>\n",
       "      <td>3</td>\n",
       "    </tr>\n",
       "    <tr>\n",
       "      <th>3</th>\n",
       "      <td>1003</td>\n",
       "      <td>1</td>\n",
       "      <td>2017-04-26 02:37:20</td>\n",
       "      <td>4</td>\n",
       "    </tr>\n",
       "    <tr>\n",
       "      <th>4</th>\n",
       "      <td>1004</td>\n",
       "      <td>0</td>\n",
       "      <td>2017-01-01 03:11:54</td>\n",
       "      <td>1</td>\n",
       "    </tr>\n",
       "    <tr>\n",
       "      <th>5</th>\n",
       "      <td>1005</td>\n",
       "      <td>1</td>\n",
       "      <td>2017-12-16 01:39:27</td>\n",
       "      <td>2</td>\n",
       "    </tr>\n",
       "    <tr>\n",
       "      <th>6</th>\n",
       "      <td>1006</td>\n",
       "      <td>1</td>\n",
       "      <td>2017-05-09 15:27:20</td>\n",
       "      <td>3</td>\n",
       "    </tr>\n",
       "    <tr>\n",
       "      <th>7</th>\n",
       "      <td>1007</td>\n",
       "      <td>0</td>\n",
       "      <td>2017-01-01 15:59:50</td>\n",
       "      <td>1</td>\n",
       "    </tr>\n",
       "    <tr>\n",
       "      <th>8</th>\n",
       "      <td>1008</td>\n",
       "      <td>0</td>\n",
       "      <td>2017-12-17 05:47:48</td>\n",
       "      <td>3</td>\n",
       "    </tr>\n",
       "    <tr>\n",
       "      <th>9</th>\n",
       "      <td>1009</td>\n",
       "      <td>1</td>\n",
       "      <td>2017-01-01 19:27:17</td>\n",
       "      <td>1</td>\n",
       "    </tr>\n",
       "  </tbody>\n",
       "</table>\n",
       "</div>"
      ],
      "text/plain": [
       "  customer_id  gender most_recent_order_date  order_count\n",
       "0        1000       0    2017-01-01 00:11:31            1\n",
       "1        1001       0    2017-01-01 00:29:56            1\n",
       "2        1002       1    2017-02-19 21:35:31            3\n",
       "3        1003       1    2017-04-26 02:37:20            4\n",
       "4        1004       0    2017-01-01 03:11:54            1\n",
       "5        1005       1    2017-12-16 01:39:27            2\n",
       "6        1006       1    2017-05-09 15:27:20            3\n",
       "7        1007       0    2017-01-01 15:59:50            1\n",
       "8        1008       0    2017-12-17 05:47:48            3\n",
       "9        1009       1    2017-01-01 19:27:17            1"
      ]
     },
     "execution_count": 15,
     "metadata": {},
     "output_type": "execute_result"
    }
   ],
   "source": [
    "# Group by customer_id and gender to get most recent order date and order count\n",
    "df_custmoer = df.groupby(['customer_id', 'gender']).agg({'date': 'max', 'value': 'count'}) \\\n",
    "                                                   .reset_index() \\\n",
    "                                                   .rename(columns={'date':'most_recent_order_date',\n",
    "                                                                   'value':'order_count'})\n",
    "# Sort by customer_id ascending\n",
    "df_custmoer = df_custmoer.sort_values('customer_id', ascending = True)\n",
    "# Display the first 10 rows\n",
    "df_custmoer.head(10)"
   ]
  },
  {
   "cell_type": "markdown",
   "metadata": {},
   "source": [
    "# Question B <a class=\"anchor\" id=\"qb\"></a>\n",
    "**[Back to top](#toc)**"
   ]
  },
  {
   "cell_type": "markdown",
   "metadata": {},
   "source": [
    "Plot the count of orders per week for the store."
   ]
  },
  {
   "cell_type": "code",
   "execution_count": 16,
   "metadata": {},
   "outputs": [
    {
     "data": {
      "image/png": "[encoded data removed]",
      "text/plain": [
       "<Figure size 1152x576 with 1 Axes>"
      ]
     },
     "metadata": {
      "needs_background": "light"
     },
     "output_type": "display_data"
    }
   ],
   "source": [
    "# I use the calender week (from Monday to Sunday). Since 1/1/2017 is Sunday, the first week only has one day.\n",
    "# Group by each 7 days\n",
    "df_week = df.copy()\n",
    "df_week['week'] = df_week.date.map(lambda x: pd.to_datetime(x).isocalendar()[:2])\n",
    "plt = df_week.groupby('week').size().plot(title='The Count of Orders Per Week',\n",
    "                                                               figsize=(16,8))\n",
    "plt = plt.set_ylabel(\"Count of Orders\")"
   ]
  },
  {
   "cell_type": "markdown",
   "metadata": {},
   "source": [
    "# Question C <a class=\"anchor\" id=\"qc\"></a>\n",
    "**[Back to top](#toc)**"
   ]
  },
  {
   "cell_type": "markdown",
   "metadata": {},
   "source": [
    "Compute the mean order value for gender 0 and for gender 1. Do you think the difference is significant? Justify your choice of method."
   ]
  },
  {
   "cell_type": "code",
   "execution_count": 17,
   "metadata": {},
   "outputs": [
    {
     "name": "stdout",
     "output_type": "stream",
     "text": [
      "The mean order value for gender 0 is 363.75\n",
      "The mean order value for gender 1 is 350.69\n"
     ]
    }
   ],
   "source": [
    "# Compute the mean order value for gender 0 and for gender 1\n",
    "df_gender = df.groupby('gender').mean()['value']\n",
    "print('The mean order value for gender 0 is', round(df_gender[0],2))\n",
    "print('The mean order value for gender 1 is', round(df_gender[1],2))"
   ]
  },
  {
   "cell_type": "markdown",
   "metadata": {},
   "source": [
    "Some assumption for this dataset:\n",
    "\n",
    "1. The data is collected from a representative, randomly selected portion of the total population.\n",
    "2. Each transaction is independent.\n",
    "\n",
    "We want to use t-test to find the significant difference in these two groups. Here we also need to check data to make sure it result in a normal distribution, bell-shaped distribution curve."
   ]
  },
  {
   "cell_type": "markdown",
   "metadata": {},
   "source": [
    "#### Check normalization"
   ]
  },
  {
   "cell_type": "code",
   "execution_count": 18,
   "metadata": {},
   "outputs": [
    {
     "data": {
      "text/plain": [
       "<matplotlib.axes._subplots.AxesSubplot at 0x24880c2acc8>"
      ]
     },
     "execution_count": 18,
     "metadata": {},
     "output_type": "execute_result"
    },
    {
     "data": {
      "image/png": "[encoded data removed]",
      "text/plain": [
       "<Figure size 576x432 with 1 Axes>"
      ]
     },
     "metadata": {
      "needs_background": "light"
     },
     "output_type": "display_data"
    }
   ],
   "source": [
    "# Histogram\n",
    "df['value'].plot(kind='hist', title='Histogram of Value', bins=100,  figsize=(8,6))"
   ]
  },
  {
   "cell_type": "markdown",
   "metadata": {},
   "source": [
    "The data does not fall into a bell-shaped distribution."
   ]
  },
  {
   "cell_type": "markdown",
   "metadata": {},
   "source": [
    "Let's look at the Q-Q Plot. QQ Plot stands for Quantile vs Quantile Plot, which is exactly what it does: plotting theoretical quantiles against the actual quantiles of our variable."
   ]
  },
  {
   "cell_type": "code",
   "execution_count": 19,
   "metadata": {},
   "outputs": [
    {
     "data": {
      "image/png": "[encoded data removed]",
      "text/plain": [
       "<Figure size 432x288 with 1 Axes>"
      ]
     },
     "metadata": {
      "needs_background": "light"
     },
     "output_type": "display_data"
    }
   ],
   "source": [
    "# Q-Q plot\n",
    "stats.probplot(df['value'], dist=\"norm\", plot=pylab)\n",
    "pylab.show()"
   ]
  },
  {
   "cell_type": "markdown",
   "metadata": {},
   "source": [
    "The points on a normal QQ Plot deviate strongly from the straight line. This distribution has too many observations in both extremities (very high and very low values)."
   ]
  },
  {
   "cell_type": "markdown",
   "metadata": {},
   "source": [
    "Let's look at the Kolmogorov Smirnov test. (Since the sample size is too large, it should be cautious to use this test.) The Kolmogorov Smirnov test computes the distances between the empirical distribution and the theoretical distribution and defines the test statistic as the supremum of the set of those distances."
   ]
  },
  {
   "cell_type": "code",
   "execution_count": 20,
   "metadata": {},
   "outputs": [
    {
     "name": "stdout",
     "output_type": "stream",
     "text": [
      "Statistics=0.996, p=0.000\n"
     ]
    }
   ],
   "source": [
    "# Shapiro-Wilk normality test\n",
    "ks_statistic, p_value = stats.kstest(df['value'], 'norm')\n",
    "print('Statistics=%.3f, p=%.3f' % (ks_statistic, p_value))"
   ]
  },
  {
   "cell_type": "markdown",
   "metadata": {},
   "source": [
    "The P-Value of the KS Test is smaller than 0.05, we do not assume a normal distribution"
   ]
  },
  {
   "cell_type": "markdown",
   "metadata": {},
   "source": [
    "**In conclusion, we don't assume that the value comes from a normal distribution so we cannot use a t-test.**"
   ]
  },
  {
   "cell_type": "markdown",
   "metadata": {},
   "source": [
    "We need to use How to the Mann-Whitney U test instead. The Mann-Whitney U test is a nonparametric statistical significance test for determining whether two independent samples were drawn from a population with the same distribution.\n",
    "\n",
    "Null Hypothesis: The value of these two groups are drawn from the same population, thus there is no significant difference.\n",
    "\n",
    "Alternative Hypothesis: The value of these two groups are drawn from different population, thus there is a significant difference."
   ]
  },
  {
   "cell_type": "code",
   "execution_count": 21,
   "metadata": {},
   "outputs": [
    {
     "name": "stdout",
     "output_type": "stream",
     "text": [
      "Statistics=22446069.500, p=0.154\n"
     ]
    }
   ],
   "source": [
    "# Get data from two groups\n",
    "gender_0 = df[df['gender'] == 0]['value']\n",
    "gender_1 = df[df['gender'] == 1]['value']\n",
    "\n",
    "stat, p = stats.mannwhitneyu(gender_0, gender_1)\n",
    "print('Statistics=%.3f, p=%.3f' % (stat, p))"
   ]
  },
  {
   "cell_type": "markdown",
   "metadata": {},
   "source": [
    "Since the P-value is 0.154, if our chosen significance level is 0.05, we don't have a strong evidence to reject the null hypothesis. Therefore, there is no significant different of these two groups."
   ]
  },
  {
   "cell_type": "code",
   "execution_count": 28,
   "metadata": {},
   "outputs": [
    {
     "data": {
      "image/png": "[encoded data removed]",
      "text/plain": [
       "<Figure size 432x288 with 1 Axes>"
      ]
     },
     "metadata": {
      "needs_background": "light"
     },
     "output_type": "display_data"
    }
   ],
   "source": [
    "# Density plot\n",
    "p=sns.kdeplot(df[df['gender']==0][df['value']<=1000]['value'].rename('gender 0'), shade=True, color=\"r\", legend='gender0')\n",
    "p=sns.kdeplot(df[df['gender']==1][df['value']<=1000]['value'].rename('gender 1'), shade=True, color=\"b\", legend='gender1')\n",
    "p.set_title(\"Density Plot of Value\")\n",
    "plt.show()"
   ]
  },
  {
   "cell_type": "markdown",
   "metadata": {},
   "source": [
    "To verify the conclusion, we use the density plot to check there is indeed no significant between these two groups."
   ]
  },
  {
   "cell_type": "markdown",
   "metadata": {},
   "source": [
    "# Question D <a class=\"anchor\" id=\"qd\"></a>\n",
    "**[Back to top](#toc)**"
   ]
  },
  {
   "cell_type": "markdown",
   "metadata": {},
   "source": [
    "Generate a confusion matrix for the gender predictions of customers in this dataset. You can assume that there is only one gender prediction for each customer. What does the confusion matrix tell you about the quality of the predictions?"
   ]
  },
  {
   "cell_type": "code",
   "execution_count": 29,
   "metadata": {},
   "outputs": [
    {
     "name": "stdout",
     "output_type": "stream",
     "text": [
      "              precision    recall  f1-score   support\n",
      "\n",
      "           0       0.70      0.50      0.58      6758\n",
      "           1       0.61      0.78      0.68      6711\n",
      "\n",
      "    accuracy                           0.64     13469\n",
      "   macro avg       0.65      0.64      0.63     13469\n",
      "weighted avg       0.65      0.64      0.63     13469\n",
      "\n"
     ]
    },
    {
     "data": {
      "image/png": "[encoded data removed]",
      "text/plain": [
       "<Figure size 432x288 with 2 Axes>"
      ]
     },
     "metadata": {
      "needs_background": "light"
     },
     "output_type": "display_data"
    }
   ],
   "source": [
    "# Visualize the confusion matrix\n",
    "cm = confusion_matrix(df['gender'],df['predicted_gender'])\n",
    "sns.heatmap(cm,annot=True,fmt=\"d\")\n",
    "\n",
    "# Print the classification result\n",
    "print(classification_report(df['gender'],df['predicted_gender']))"
   ]
  },
  {
   "cell_type": "markdown",
   "metadata": {},
   "source": [
    "Here are four number in the confusion matrix above:\n",
    "\n",
    "True Positive (3348) : Ground truth is positive and is predicted to be positive.\n",
    "\n",
    "False Negative (3410) : Ground truth is positive but is predicted to be negative.\n",
    "\n",
    "True Negative (5248) : Ground truth is negative and is predicted to be negative.\n",
    "\n",
    "False Positive (1463) : Ground truth is negative but is predicted to be positive.\n",
    "   \n",
    "The precision for gender 0 is 0.70 and for gender 1 is 0.61. The recall for gender 0 is 0.50 and for gender 1 is 0.78\n",
    "   \n",
    "For gender 0, we miss a lot of positive examples but those we predict as positive are indeed positive.\n",
    "\n",
    "For gender 1, we capture a lot of positive examples but some of those we predict as positive are actually negative.\n",
    "\n",
    "Generally, we can use precision and recall to compute a new metric - F1 score, which equals to 2 * (precision * recall) / (precision + recall). We do not focus on much whereas False Negative and False Positive usually has business costs (tangible & intangible) thus F1 Score might be a better measure to use if we need to seek a balance between Precision and Recall. From the result, F1 Score for gender 0 is 0.58 and for gender 1 is 0.68."
   ]
  },
  {
   "cell_type": "markdown",
   "metadata": {},
   "source": [
    "# Question E <a class=\"anchor\" id=\"qe\"></a>\n",
    "**[Back to top](#toc)**"
   ]
  },
  {
   "cell_type": "markdown",
   "metadata": {},
   "source": [
    "Describe one of your favorite tools or techniques and give a small example of how it's helped you solve a problem. Limit your answer to one paragraph, and please be specific."
   ]
  },
  {
   "cell_type": "markdown",
   "metadata": {},
   "source": [
    "My favorite tool for data science is the Scikit-Learn package in Python. \n",
    "This package enables us to build machine learning pipelines including data cleaning, feature selection, cross validation, and model evaluation. I would share a fraud detection project I did in Kaggle. I performed data cleaning such as missing values imputation and normalization. Then, I selected important features from 200+ columns by using Random Forest. The next step was to setting up a pipeline and conducting hyperparameter tuning and cross validation to compare different models such as Random Forest, XGBoost, and LightGBM. I also used this package to stacked basic models such as KNN, SVM, and decision trees with XGBoost, which can increase the accuracy. Scikit-Learn also provides us with multiple evaluation metrics such as Confusion Matrix and ROC. We can see the performance of each model visually. In conclusion, Scikit-Learn is very useful to help me solve problems related to machine learning with its supervised and unsupervised built-in models."
   ]
  }
 ],
 "metadata": {
  "kernelspec": {
   "display_name": "Python 3",
   "language": "python",
   "name": "python3"
  },
  "language_info": {
   "codemirror_mode": {
    "name": "ipython",
    "version": 3
   },
   "file_extension": ".py",
   "mimetype": "text/x-python",
   "name": "python",
   "nbconvert_exporter": "python",
   "pygments_lexer": "ipython3",
   "version": "3.7.6"
  }
 },
 "nbformat": 4,
 "nbformat_minor": 2
}
